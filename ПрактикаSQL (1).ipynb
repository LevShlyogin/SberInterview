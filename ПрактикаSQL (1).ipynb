{
  "nbformat": 4,
  "nbformat_minor": 0,
  "metadata": {
    "colab": {
      "provenance": []
    },
    "kernelspec": {
      "name": "python3",
      "display_name": "Python 3"
    },
    "language_info": {
      "name": "python"
    }
  },
  "cells": [
    {
      "cell_type": "markdown",
      "source": [
        "# Задание_1. Практические задания SQL\n",
        "# Для решения использовать тренажер https://www.w3schools.com/sql/trysql.asp?filename=trysql_select_all"
      ],
      "metadata": {
        "id": "0ocn57c0WNMy"
      }
    },
    {
      "cell_type": "markdown",
      "source": [
        "1. Выберите заказчиков из Германии, Франции и Мадрида, выведите их название, страну и адрес."
      ],
      "metadata": {
        "id": "jmlPznHfWYC9"
      }
    },
    {
      "cell_type": "code",
      "execution_count": null,
      "metadata": {
        "id": "LbIooETTV5RK"
      },
      "outputs": [],
      "source": [
        "SELECT CustomerName, Country, Address\n",
        "FROM Customers\n",
        "WHERE Country IN ('Germany', 'France') OR (Country = 'Spain' AND City = 'Madrid')\n",
        "ORDER BY Country;"
      ]
    },
    {
      "cell_type": "markdown",
      "source": [
        "Результаты"
      ],
      "metadata": {
        "id": "jzRMWn7nkNu-"
      }
    },
    {
      "cell_type": "markdown",
      "source": [
        "Number of Records: 25\n",
        "CustomerName\tCountry\tAddress\n",
        "Blondel père et fils\tFrance\t24, place Kléber\n",
        "Bon app'\tFrance\t12, rue des Bouchers\n",
        "Du monde entier\tFrance\t67, rue des Cinquante Otages\n",
        "Folies gourmandes\tFrance\t184, chaussée de Tournai\n",
        "France restauration\tFrance\t54, rue Royale\n",
        "La corne d'abondance\tFrance\t67, avenue de l'Europe\n",
        "La maison d'Asie\tFrance\t1 rue Alsace-Lorraine\n",
        "Paris spécialités\tFrance\t265, boulevard Charonne\n",
        "Spécialités du monde\tFrance\t25, rue Lauriston\n",
        "Victuailles en stock\tFrance\t2, rue du Commerce\n",
        "Vins et alcools Chevalier\tFrance\t59 rue de l'Abbaye\n",
        "Alfreds Futterkiste\tGermany\tObere Str. 57\n",
        "Blauer See Delikatessen\tGermany\tForsterstr. 57\n",
        "Drachenblut Delikatessend\tGermany\tWalserweg 21\n",
        "Frankenversand\tGermany\tBerliner Platz 43\n",
        "Königlich Essen\tGermany\tMaubelstr. 90\n",
        "Lehmanns Marktstand\tGermany\tMagazinweg 7\n",
        "Morgenstern Gesundkost\tGermany\tHeerstr. 22\n",
        "Ottilies Käseladen\tGermany\tMehrheimerstr. 369\n",
        "QUICK-Stop\tGermany\tTaucherstraße 10\n",
        "Toms Spezialitäten\tGermany\tLuisenstr. 48\n",
        "Die Wandernde Kuh\tGermany\tAdenauerallee 900\n",
        "Bólido Comidas preparadas\tSpain\tC/ Araquil, 67\n",
        "FISSA Fabrica Inter. Salchichas S.A.\tSpain\tC/ Moralzarzal, 86\n",
        "Romero y tomillo\tSpain\tGran Vía, 1"
      ],
      "metadata": {
        "id": "qUcFw7p1lWbf"
      }
    },
    {
      "cell_type": "markdown",
      "source": [
        "2. Выберите топ 3 страны по количеству заказчиков, выведите их названия и количество записей."
      ],
      "metadata": {
        "id": "xReW6fHUWlNt"
      }
    },
    {
      "cell_type": "code",
      "source": [
        "SELECT c.Country, COUNT(*) AS Quantity\n",
        "FROM Customers AS c\n",
        "GROUP BY c.Country\n",
        "ORDER BY Quantity DESC\n",
        "LIMIT 3;"
      ],
      "metadata": {
        "id": "mv4K6BxVWl4l"
      },
      "execution_count": null,
      "outputs": []
    },
    {
      "cell_type": "markdown",
      "source": [
        "Результаты"
      ],
      "metadata": {
        "id": "u5KJ5xnckiVw"
      }
    },
    {
      "cell_type": "markdown",
      "source": [
        "Number of Records: 3\n",
        "Country\tQuantity\n",
        "USA\t13\n",
        "Germany\t11\n",
        "France\t11\n"
      ],
      "metadata": {
        "id": "Ry3_JSQUkkxd"
      }
    },
    {
      "cell_type": "markdown",
      "source": [
        "3. Выберите перевозчика, который отправил 10-й по времени заказ, выведите его название, и дату отправления."
      ],
      "metadata": {
        "id": "cSIaZrVuYB3i"
      }
    },
    {
      "cell_type": "code",
      "source": [
        "SELECT s.ShipperName, o.OrderDate\n",
        "FROM (\n",
        "    SELECT *\n",
        "    FROM (\n",
        "        SELECT *\n",
        "        FROM Orders\n",
        "        ORDER BY OrderDate ASC\n",
        "        LIMIT 10\n",
        "    ) o\n",
        "    ORDER BY OrderDate DESC\n",
        "    LIMIT 1\n",
        ") o\n",
        "JOIN Shippers s ON o.ShipperID = s.ShipperID;"
      ],
      "metadata": {
        "id": "zaC664WwYCBl"
      },
      "execution_count": null,
      "outputs": []
    },
    {
      "cell_type": "markdown",
      "source": [
        "Результаты"
      ],
      "metadata": {
        "id": "sUFDn2o3k5lZ"
      }
    },
    {
      "cell_type": "markdown",
      "source": [
        "Number of Records: 1\n",
        "ShipperName\tOrderDate\n",
        "Federal Shipping\t1996-07-16"
      ],
      "metadata": {
        "id": "CuvF8j-5k6I-"
      }
    },
    {
      "cell_type": "markdown",
      "source": [
        "4. Выберите самый дорогой заказ, выведите список товаров с их ценами."
      ],
      "metadata": {
        "id": "4XhEy5ReYMcz"
      }
    },
    {
      "cell_type": "code",
      "source": [
        "SELECT p.ProductName, p.Unit, od.Quantity, p.Price\n",
        "FROM Orders o\n",
        "JOIN OrderDetails od ON o.OrderID = od.OrderID\n",
        "JOIN Products p ON od.ProductID = p.ProductID\n",
        "WHERE o.OrderID = (\n",
        "    SELECT OrderID\n",
        "    FROM OrderDetails\n",
        "    JOIN Products ON OrderDetails.ProductID = Products.ProductID\n",
        "    GROUP BY OrderID\n",
        "    ORDER BY SUM(OrderDetails.Quantity * Products.Price) DESC\n",
        "    LIMIT 1\n",
        ");"
      ],
      "metadata": {
        "id": "UbqstEfDYNBa"
      },
      "execution_count": null,
      "outputs": []
    },
    {
      "cell_type": "markdown",
      "source": [
        "Результаты"
      ],
      "metadata": {
        "id": "ow6MeSnyla70"
      }
    },
    {
      "cell_type": "markdown",
      "source": [
        "Number of Records: 4\n",
        "ProductName\tUnit\tQuantity\tPrice\n",
        "Sir Rodney's Marmalade\t30 gift boxes\t12\t81\n",
        "Côte de Blaye\t12 - 75 cl bottles\t40\t263.5\n",
        "Camembert Pierrot\t15 - 300 g rounds\t70\t34\n",
        "Mozzarella di Giovanni\t24 - 200 g pkgs.\t42\t34.8"
      ],
      "metadata": {
        "id": "ej_Uj1s7lbA6"
      }
    },
    {
      "cell_type": "markdown",
      "source": [
        "5. Какой товар больше всего заказывали по количеству единиц товара, выведите его название и количество единиц в каждом из заказов."
      ],
      "metadata": {
        "id": "N8l496suavOk"
      }
    },
    {
      "cell_type": "code",
      "source": [
        "SELECT p.ProductName, od.Quantity, od.OrderID\n",
        "FROM Products p\n",
        "JOIN (\n",
        "    SELECT od.ProductID AS pid\n",
        "    FROM Orders o\n",
        "    JOIN OrderDetails od ON o.OrderID = od.OrderID\n",
        "    GROUP BY od.ProductID\n",
        "    ORDER BY SUM(od.Quantity) DESC\n",
        "    LIMIT 1\n",
        ") h ON p.ProductID = h.pid\n",
        "JOIN OrderDetails od ON p.ProductID = od.ProductID\n",
        "ORDER BY od.Quantity DESC;"
      ],
      "metadata": {
        "id": "3MXpVPVtavlU"
      },
      "execution_count": null,
      "outputs": []
    },
    {
      "cell_type": "markdown",
      "source": [
        "Результаты"
      ],
      "metadata": {
        "id": "zH0rB28ylv4n"
      }
    },
    {
      "cell_type": "markdown",
      "source": [
        "Number of Records: 14\n",
        "ProductName\tQuantity\tOrderID\n",
        "Gorgonzola Telino\t70\t10359\n",
        "Gorgonzola Telino\t60\t10390\n",
        "Gorgonzola Telino\t56\t10342\n",
        "Gorgonzola Telino\t42\t10376\n",
        "Gorgonzola Telino\t40\t10272\n",
        "Gorgonzola Telino\t32\t10393\n",
        "Gorgonzola Telino\t30\t10356\n",
        "Gorgonzola Telino\t30\t10374\n",
        "Gorgonzola Telino\t25\t10335\n",
        "Gorgonzola Telino\t20\t10253\n",
        "Gorgonzola Telino\t20\t10363\n",
        "Gorgonzola Telino\t15\t10273\n",
        "Gorgonzola Telino\t14\t10423\n",
        "Gorgonzola Telino\t4\t10325"
      ],
      "metadata": {
        "id": "Xr0CYID_lwKa"
      }
    },
    {
      "cell_type": "markdown",
      "source": [
        "6. Выведите топ 5 поставщиков по количеству заказов, выведите их названия, страну, контактное лицо и телефон."
      ],
      "metadata": {
        "id": "oXgYjlGrdk1J"
      }
    },
    {
      "cell_type": "code",
      "source": [
        "SELECT sup.SupplierName, sup.Country, sup.ContactName, sup.Phone\n",
        "FROM Suppliers sup\n",
        "JOIN Products p ON sup.SupplierID = p.SupplierID\n",
        "JOIN OrderDetails od ON p.ProductID = od.ProductID\n",
        "JOIN Orders o ON od.OrderID = o.OrderID\n",
        "GROUP BY sup.SupplierID\n",
        "ORDER BY COUNT(o.OrderID) DESC\n",
        "LIMIT 5;"
      ],
      "metadata": {
        "id": "BXmHihEHdk-1"
      },
      "execution_count": null,
      "outputs": []
    },
    {
      "cell_type": "markdown",
      "source": [
        "Результаты"
      ],
      "metadata": {
        "id": "qfB_OzgFmMAk"
      }
    },
    {
      "cell_type": "markdown",
      "source": [
        "Number of Records: 5\n",
        "SupplierName\tCountry\tContactName\tPhone\n",
        "Plutzer Lebensmittelgroßmärkte AG\tGermany\tMartin Bein\t(069) 992755\n",
        "Pavlova, Ltd.\tAustralia\tIan Devling\t(03) 444-2343\n",
        "Specialty Biscuits, Ltd.\tUK\tPeter Wilson\t(161) 555-4448\n",
        "Norske Meierier\tNorway\tBeate Vileid\t(0)2-953010\n",
        "Formaggi Fortini s.r.l.\tItaly\tElio Rossi\t(0544) 60323"
      ],
      "metadata": {
        "id": "or5tpPMUmMG3"
      }
    },
    {
      "cell_type": "markdown",
      "source": [
        "7. Какую категорию товаров заказывали больше всего по стоимости в Бразилии, выведите страну, название категории и сумму."
      ],
      "metadata": {
        "id": "tRzDjkgofO8d"
      }
    },
    {
      "cell_type": "code",
      "source": [
        "SELECT cust.Country, cat.CategoryName, SUM(od.Quantity * p.Price) AS TotalPrice\n",
        "FROM Orders o\n",
        "JOIN Customers cust ON o.CustomerID = cust.CustomerID\n",
        "JOIN OrderDetails od ON o.OrderID = od.OrderID\n",
        "JOIN Products p ON od.ProductID = p.ProductID\n",
        "JOIN Categories cat ON p.CategoryID = cat.CategoryID\n",
        "WHERE cust.Country = 'Brazil'\n",
        "GROUP BY p.CategoryID\n",
        "ORDER BY TotalPrice DESC\n",
        "LIMIT 1;"
      ],
      "metadata": {
        "id": "8sJON9V2fPGB"
      },
      "execution_count": null,
      "outputs": []
    },
    {
      "cell_type": "markdown",
      "source": [
        "Результаты"
      ],
      "metadata": {
        "id": "wzZVtjfymkQp"
      }
    },
    {
      "cell_type": "markdown",
      "source": [
        "Number of Records: 1\n",
        "Country\tCategoryName\tTotalPrice\n",
        "Brazil\tBeverages\t13690"
      ],
      "metadata": {
        "id": "xrQanf9lmkd2"
      }
    },
    {
      "cell_type": "markdown",
      "source": [
        "8. Какая разница в стоимости между самым дорогим и самым дешевым заказом из США."
      ],
      "metadata": {
        "id": "GIbVudeHf-ff"
      }
    },
    {
      "cell_type": "code",
      "source": [
        "SELECT (MAX(orderPrices.OrderPrice) - MIN(orderPrices.OrderPrice)) AS PriceDifference\n",
        "FROM (\n",
        "    SELECT o.OrderID, SUM(od.Quantity * p.Price) AS OrderPrice\n",
        "    FROM Orders o\n",
        "    JOIN OrderDetails od ON o.OrderID = od.OrderID\n",
        "    JOIN Products p ON p.ProductID = od.ProductID\n",
        "    JOIN Customers cust ON cust.CustomerID = o.CustomerID\n",
        "    WHERE cust.Country = 'USA'\n",
        "    GROUP BY o.OrderID\n",
        ") orderPrices;"
      ],
      "metadata": {
        "id": "BOF3AgJdgjqO"
      },
      "execution_count": null,
      "outputs": []
    },
    {
      "cell_type": "markdown",
      "source": [
        "Результаты"
      ],
      "metadata": {
        "id": "QzHx-_OFmqfZ"
      }
    },
    {
      "cell_type": "markdown",
      "source": [
        "Number of Records: 1\n",
        "PriceDifference\n",
        "7638.45"
      ],
      "metadata": {
        "id": "o4LzwXKUmqjo"
      }
    },
    {
      "cell_type": "markdown",
      "source": [
        "9. Выведите количество заказов у каждого их трех самых молодых сотрудников, а также имя и фамилию во второй колонке."
      ],
      "metadata": {
        "id": "IB0eGHmVgmzA"
      }
    },
    {
      "cell_type": "code",
      "source": [
        "SELECT COUNT(*) AS OrdersCount, (e.FirstName || ' ' || e.LastName) AS FullName\n",
        "FROM Orders o\n",
        "JOIN Employees e ON o.EmployeeID = e.EmployeeID\n",
        "GROUP BY e.EmployeeID, FullName\n",
        "ORDER BY e.BirthDate DESC\n",
        "LIMIT 3;"
      ],
      "metadata": {
        "id": "BwaYTTqzgm5y"
      },
      "execution_count": null,
      "outputs": []
    },
    {
      "cell_type": "markdown",
      "source": [
        "Результаты"
      ],
      "metadata": {
        "id": "YsNeEasHm1Vy"
      }
    },
    {
      "cell_type": "markdown",
      "source": [
        "Number of Records: 3\n",
        "OrdersCount\tFullName\n",
        "6\tAnne Dodsworth\n",
        "29\tNancy Davolio\n",
        "31\tJanet Leverling"
      ],
      "metadata": {
        "id": "jE-uK9-4m1c7"
      }
    },
    {
      "cell_type": "markdown",
      "source": [
        "10. Сколько банок крабового мяса всего было заказано."
      ],
      "metadata": {
        "id": "CgH5QayOhKBu"
      }
    },
    {
      "cell_type": "code",
      "source": [
        "SELECT SUM(od.Quantity) AS TotalCrabMeatQuantity\n",
        "FROM Orders o\n",
        "JOIN OrderDetails od ON o.OrderID = od.OrderID\n",
        "JOIN Products p ON od.ProductID = p.ProductID\n",
        "WHERE p.ProductName = 'Boston Crab Meat';"
      ],
      "metadata": {
        "id": "Iz9ytbGZhKWp"
      },
      "execution_count": null,
      "outputs": []
    },
    {
      "cell_type": "markdown",
      "source": [
        "Результаты"
      ],
      "metadata": {
        "id": "VnZ3vCQunB9e"
      }
    },
    {
      "cell_type": "markdown",
      "source": [
        "Number of Records: 1\n",
        "TotalCrabMeatQuantity\n",
        "256"
      ],
      "metadata": {
        "id": "nXrZpZR8nCAx"
      }
    }
  ]
}