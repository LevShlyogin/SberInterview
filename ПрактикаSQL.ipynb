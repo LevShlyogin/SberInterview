{
  "nbformat": 4,
  "nbformat_minor": 0,
  "metadata": {
    "colab": {
      "provenance": []
    },
    "kernelspec": {
      "name": "python3",
      "display_name": "Python 3"
    },
    "language_info": {
      "name": "python"
    }
  },
  "cells": [
    {
      "cell_type": "markdown",
      "source": [
        "# Задание_1. Практические задания SQL\n",
        "# Для решения использовать тренажер https://www.w3schools.com/sql/trysql.asp?filename=trysql_select_all"
      ],
      "metadata": {
        "id": "0ocn57c0WNMy"
      }
    },
    {
      "cell_type": "markdown",
      "source": [
        "1. Выберите заказчиков из Германии, Франции и Мадрида, выведите их название, страну и адрес."
      ],
      "metadata": {
        "id": "jmlPznHfWYC9"
      }
    },
    {
      "cell_type": "code",
      "execution_count": null,
      "metadata": {
        "id": "LbIooETTV5RK"
      },
      "outputs": [],
      "source": [
        "SELECT CustomerName, Country, Address\n",
        "FROM Customers\n",
        "WHERE Country IN ('Germany', 'France') OR (Country = 'Spain' AND City = 'Madrid')\n",
        "ORDER BY Country;"
      ]
    },
    {
      "cell_type": "markdown",
      "source": [
        "2. Выберите топ 3 страны по количеству заказчиков, выведите их названия и количество записей."
      ],
      "metadata": {
        "id": "xReW6fHUWlNt"
      }
    },
    {
      "cell_type": "code",
      "source": [
        "SELECT c.Country, COUNT(*) AS Quantity\n",
        "FROM Customers AS c\n",
        "GROUP BY c.Country\n",
        "ORDER BY Quantity DESC\n",
        "LIMIT 3;"
      ],
      "metadata": {
        "id": "mv4K6BxVWl4l"
      },
      "execution_count": null,
      "outputs": []
    },
    {
      "cell_type": "markdown",
      "source": [
        "3. Выберите перевозчика, который отправил 10-й по времени заказ, выведите его название, и дату отправления."
      ],
      "metadata": {
        "id": "cSIaZrVuYB3i"
      }
    },
    {
      "cell_type": "code",
      "source": [
        "SELECT s.ShipperName, o.OrderDate\n",
        "FROM (\n",
        "    SELECT *\n",
        "    FROM (\n",
        "        SELECT *\n",
        "        FROM Orders\n",
        "        ORDER BY OrderDate ASC\n",
        "        LIMIT 10\n",
        "    ) o\n",
        "    ORDER BY OrderDate DESC\n",
        "    LIMIT 1\n",
        ") o\n",
        "JOIN Shippers s ON o.ShipperID = s.ShipperID;"
      ],
      "metadata": {
        "id": "zaC664WwYCBl"
      },
      "execution_count": null,
      "outputs": []
    },
    {
      "cell_type": "markdown",
      "source": [
        "4. Выберите самый дорогой заказ, выведите список товаров с их ценами."
      ],
      "metadata": {
        "id": "4XhEy5ReYMcz"
      }
    },
    {
      "cell_type": "code",
      "source": [
        "SELECT p.ProductName, p.Unit, od.Quantity, p.Price\n",
        "FROM Orders o\n",
        "JOIN OrderDetails od ON o.OrderID = od.OrderID\n",
        "JOIN Products p ON od.ProductID = p.ProductID\n",
        "WHERE o.OrderID = (\n",
        "    SELECT OrderID\n",
        "    FROM OrderDetails\n",
        "    JOIN Products ON OrderDetails.ProductID = Products.ProductID\n",
        "    GROUP BY OrderID\n",
        "    ORDER BY SUM(OrderDetails.Quantity * Products.Price) DESC\n",
        "    LIMIT 1\n",
        ");"
      ],
      "metadata": {
        "id": "UbqstEfDYNBa"
      },
      "execution_count": null,
      "outputs": []
    },
    {
      "cell_type": "markdown",
      "source": [
        "5. Какой товар больше всего заказывали по количеству единиц товара, выведите его название и количество единиц в каждом из заказов."
      ],
      "metadata": {
        "id": "N8l496suavOk"
      }
    },
    {
      "cell_type": "code",
      "source": [
        "SELECT p.ProductName, od.Quantity, od.OrderID\n",
        "FROM Products p\n",
        "JOIN (\n",
        "    SELECT od.ProductID AS pid\n",
        "    FROM Orders o\n",
        "    JOIN OrderDetails od ON o.OrderID = od.OrderID\n",
        "    GROUP BY od.ProductID\n",
        "    ORDER BY SUM(od.Quantity) DESC\n",
        "    LIMIT 1\n",
        ") h ON p.ProductID = h.pid\n",
        "JOIN OrderDetails od ON p.ProductID = od.ProductID\n",
        "ORDER BY od.Quantity DESC;"
      ],
      "metadata": {
        "id": "3MXpVPVtavlU"
      },
      "execution_count": null,
      "outputs": []
    },
    {
      "cell_type": "markdown",
      "source": [
        "6. Выведите топ 5 поставщиков по количеству заказов, выведите их названия, страну, контактное лицо и телефон."
      ],
      "metadata": {
        "id": "oXgYjlGrdk1J"
      }
    },
    {
      "cell_type": "code",
      "source": [
        "SELECT sup.SupplierName, sup.Country, sup.ContactName, sup.Phone\n",
        "FROM Suppliers sup\n",
        "JOIN Products p ON sup.SupplierID = p.SupplierID\n",
        "JOIN OrderDetails od ON p.ProductID = od.ProductID\n",
        "JOIN Orders o ON od.OrderID = o.OrderID\n",
        "GROUP BY sup.SupplierID\n",
        "ORDER BY COUNT(o.OrderID) DESC\n",
        "LIMIT 5;"
      ],
      "metadata": {
        "id": "BXmHihEHdk-1"
      },
      "execution_count": null,
      "outputs": []
    },
    {
      "cell_type": "markdown",
      "source": [
        "7. Какую категорию товаров заказывали больше всего по стоимости в Бразилии, выведите страну, название категории и сумму."
      ],
      "metadata": {
        "id": "tRzDjkgofO8d"
      }
    },
    {
      "cell_type": "code",
      "source": [
        "SELECT cust.Country, cat.CategoryName, SUM(od.Quantity * p.Price) AS TotalPrice\n",
        "FROM Orders o\n",
        "JOIN Customers cust ON o.CustomerID = cust.CustomerID\n",
        "JOIN OrderDetails od ON o.OrderID = od.OrderID\n",
        "JOIN Products p ON od.ProductID = p.ProductID\n",
        "JOIN Categories cat ON p.CategoryID = cat.CategoryID\n",
        "WHERE cust.Country = 'Brazil'\n",
        "GROUP BY p.CategoryID\n",
        "ORDER BY TotalPrice DESC\n",
        "LIMIT 1;"
      ],
      "metadata": {
        "id": "8sJON9V2fPGB"
      },
      "execution_count": null,
      "outputs": []
    },
    {
      "cell_type": "markdown",
      "source": [
        "8. Какая разница в стоимости между самым дорогим и самым дешевым заказом из США."
      ],
      "metadata": {
        "id": "GIbVudeHf-ff"
      }
    },
    {
      "cell_type": "code",
      "source": [
        "SELECT (MAX(orderPrices.OrderPrice) - MIN(orderPrices.OrderPrice)) AS PriceDifference\n",
        "FROM (\n",
        "    SELECT o.OrderID, SUM(od.Quantity * p.Price) AS OrderPrice\n",
        "    FROM Orders o\n",
        "    JOIN OrderDetails od ON o.OrderID = od.OrderID\n",
        "    JOIN Products p ON p.ProductID = od.ProductID\n",
        "    JOIN Customers cust ON cust.CustomerID = o.CustomerID\n",
        "    WHERE cust.Country = 'USA'\n",
        "    GROUP BY o.OrderID\n",
        ") orderPrices;"
      ],
      "metadata": {
        "id": "BOF3AgJdgjqO"
      },
      "execution_count": null,
      "outputs": []
    },
    {
      "cell_type": "markdown",
      "source": [
        "9. Выведите количество заказов у каждого их трех самых молодых сотрудников, а также имя и фамилию во второй колонке."
      ],
      "metadata": {
        "id": "IB0eGHmVgmzA"
      }
    },
    {
      "cell_type": "code",
      "source": [
        "SELECT COUNT(*) AS OrdersCount, (e.FirstName || ' ' || e.LastName) AS FullName\n",
        "FROM Orders o\n",
        "JOIN Employees e ON o.EmployeeID = e.EmployeeID\n",
        "GROUP BY e.EmployeeID, FullName\n",
        "ORDER BY e.BirthDate DESC\n",
        "LIMIT 3;"
      ],
      "metadata": {
        "id": "BwaYTTqzgm5y"
      },
      "execution_count": null,
      "outputs": []
    },
    {
      "cell_type": "markdown",
      "source": [
        "10. Сколько банок крабового мяса всего было заказано."
      ],
      "metadata": {
        "id": "CgH5QayOhKBu"
      }
    },
    {
      "cell_type": "code",
      "source": [
        "SELECT SUM(od.Quantity) AS TotalCrabMeatQuantity\n",
        "FROM Orders o\n",
        "JOIN OrderDetails od ON o.OrderID = od.OrderID\n",
        "JOIN Products p ON od.ProductID = p.ProductID\n",
        "WHERE p.ProductName = 'Boston Crab Meat';"
      ],
      "metadata": {
        "id": "Iz9ytbGZhKWp"
      },
      "execution_count": null,
      "outputs": []
    }
  ]
}